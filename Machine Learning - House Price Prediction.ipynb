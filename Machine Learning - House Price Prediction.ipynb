{
 "cells": [
  {
   "cell_type": "code",
   "execution_count": 1,
   "metadata": {},
   "outputs": [
    {
     "name": "stdout",
     "output_type": "stream",
     "text": [
      "/Users/emilyvincett/Downloads/ThinkStats2-master/code\n"
     ]
    }
   ],
   "source": [
    "cd /Users/emilyvincett/Downloads/ThinkStats2-master/code"
   ]
  },
  {
   "cell_type": "code",
   "execution_count": 2,
   "metadata": {},
   "outputs": [],
   "source": [
    "import pandas as pd\n",
    "import numpy as np \n",
    "import warnings\n",
    "import matplotlib.pyplot as plt\n",
    "import seaborn as sns\n",
    "with warnings.catch_warnings():\n",
    "    warnings.simplefilter('ignore')"
   ]
  },
  {
   "cell_type": "markdown",
   "metadata": {},
   "source": [
    "# Read test and train files into the program"
   ]
  },
  {
   "cell_type": "code",
   "execution_count": 3,
   "metadata": {},
   "outputs": [],
   "source": [
    "train = pd.read_csv('/Users/emilyvincett/Downloads/home-data-for-ml-course/train.csv')\n",
    "test = pd.read_csv('/Users/emilyvincett/Downloads/home-data-for-ml-course/test.csv')"
   ]
  },
  {
   "cell_type": "code",
   "execution_count": 4,
   "metadata": {},
   "outputs": [],
   "source": [
    "# Combine both sets together for some preprocessing and create a copy\n",
    "file = train.append(test)\n",
    "file = file.reset_index(drop=True)\n",
    "file2 = file.copy()"
   ]
  },
  {
   "cell_type": "markdown",
   "metadata": {},
   "source": [
    "# Class and Function Definitions"
   ]
  },
  {
   "cell_type": "code",
   "execution_count": 5,
   "metadata": {},
   "outputs": [],
   "source": [
    "# These functions will be used to convert categorical variables into number \n",
    "# based on their ranks corresponding to sale price\n",
    "# It also addressed measurement errors associated with how the values have been recorded, \n",
    "# as ranks are objective.\n",
    "\n",
    "def replace(original,new,df):\n",
    "    file2[df].replace(original,new,inplace=True)\n",
    "\n",
    "class convert:\n",
    "    def __init__(self,col1,col2):\n",
    "        self.col1 = col1\n",
    "        self.col2 = col2\n",
    "        arranged = file2.groupby(self.col1)[self.col2].median().sort_values(ascending=True)\n",
    "        for a in enumerate(arranged.index.values):\n",
    "            replace(a[1],a[0],self.col1) "
   ]
  },
  {
   "cell_type": "code",
   "execution_count": 6,
   "metadata": {},
   "outputs": [],
   "source": [
    "from sklearn.preprocessing import OneHotEncoder\n",
    "\n",
    "# A list of the categorical columns that need to be changed into ranks.\n",
    "\n",
    "recode = ['MSSubClass','MSZoning','LotShape','LandContour','Utilities','LotConfig','Neighborhood',\n",
    "          'Condition1', 'Condition2','BldgType','HouseStyle','OverallQual','OverallCond','RoofStyle',\n",
    "          'RoofMatl','Exterior1st','Exterior2nd','MasVnrType','ExterQual','ExterCond','Foundation',\n",
    "          'BsmtQual','BsmtCond','BsmtExposure','BsmtFinType1','BsmtFinType2','Heating','HeatingQC',\n",
    "          'CentralAir','Electrical','KitchenQual','FireplaceQu','GarageType','Functional',\n",
    "          'GarageFinish','GarageQual','GarageCond','PavedDrive','PoolQC','Fence','MiscFeature','MoSold',\n",
    "          'YrSold','SaleType','SaleCondition','Street','LandSlope'\n",
    "         ]\n",
    "\n",
    "for a in recode:\n",
    "    c = convert(a,'SalePrice')\n",
    "\n",
    "# There are 36 other columns that haven't been recoded that need to be dealt with. Figure out how\n",
    "leftovers = []\n",
    "for a in file2.columns:\n",
    "    if a not in recode:\n",
    "        leftovers.append(a)\n",
    "        \n",
    "# Numerical columns (discrete & continuous)       \n",
    "numerical_cols = file2.iloc[:,1:-1].select_dtypes(exclude='object').columns\n",
    "\n",
    "# The code below fills the null values in the numerical columns by building a pair \n",
    "# with the column it has the highest correlation with\n",
    "\n",
    "col1 = []\n",
    "col2 = []\n",
    "corr = file2[numerical_cols].corr(method='spearman')\n",
    "for a in (corr.index):\n",
    "    col1.append(a)\n",
    "    col2.append(corr[a].nlargest(3).sort_values(ascending=True)[:1].index.values[0])\n",
    "corr_pairs = list(zip(col1,col2))\n",
    "\n",
    "# Then groups the dataframe by the column to filled and fills its null values based on it's median value \n",
    "# with the column of its strongest correlation\n",
    "for a,b in corr_pairs:\n",
    "    file2[a] = file2[a].fillna(file2.groupby(b)[a].transform('median'))\n",
    "    \n",
    "# still needs to be filled\n",
    "for a in numerical_cols:\n",
    "    nulls = (len(file2[file2[a].isna()]))\n",
    "    if nulls>0:\n",
    "        file2[a] = file2[a].fillna(file2.groupby(b)[a].transform('median'))\n",
    "\n",
    "# Seperate the target variable (Sales Price) and saved it in variable y.\n",
    "y = file2.iloc[0:1460,-1]\n",
    "file2.drop(['SalePrice','Alley'],axis=1,inplace=True)"
   ]
  },
  {
   "cell_type": "markdown",
   "metadata": {},
   "source": [
    "# Split the combined dataframe back into test and train sets"
   ]
  },
  {
   "cell_type": "code",
   "execution_count": 7,
   "metadata": {},
   "outputs": [
    {
     "data": {
      "text/plain": [
       "(1459, 78)"
      ]
     },
     "execution_count": 7,
     "metadata": {},
     "output_type": "execute_result"
    }
   ],
   "source": [
    "train_1 = file2.iloc[0:1460,1:]\n",
    "test_1 = file2.iloc[1460:,1:]\n",
    "test_id = file2['Id'].iloc[1460:]\n",
    "test_1.shape"
   ]
  },
  {
   "cell_type": "markdown",
   "metadata": {},
   "source": [
    "# Train an XGB Regressor"
   ]
  },
  {
   "cell_type": "code",
   "execution_count": 8,
   "metadata": {},
   "outputs": [
    {
     "name": "stdout",
     "output_type": "stream",
     "text": [
      "26519.732007\n"
     ]
    }
   ],
   "source": [
    "from sklearn.model_selection import train_test_split\n",
    "from sklearn.feature_selection import SelectKBest, f_regression\n",
    "import xgboost as xgb\n",
    "from sklearn.metrics import mean_squared_error\n",
    "\n",
    "X_train,X_test,y_train,y_test = train_test_split(train_1,y,test_size = 0.3,random_state=0)\n",
    "\n",
    "xg_reg = xgb.XGBRegressor(learning_rate=0.1,n_estimators=10000,max_depth=3,\n",
    "                         subsample=0.6,colsample_bytree=0.5,gamma=0.5)\n",
    "xg_reg.fit(X_train,y_train)\n",
    "preds = xg_reg.predict(X_test)\n",
    "\n",
    "rmse = np.sqrt(mean_squared_error(y_test,preds))\n",
    "print('%4f'%(rmse))"
   ]
  },
  {
   "cell_type": "markdown",
   "metadata": {},
   "source": [
    "# Pair the predicted sales prices with the requisite Id's for submission"
   ]
  },
  {
   "cell_type": "code",
   "execution_count": 9,
   "metadata": {},
   "outputs": [
    {
     "data": {
      "text/html": [
       "<div>\n",
       "<style scoped>\n",
       "    .dataframe tbody tr th:only-of-type {\n",
       "        vertical-align: middle;\n",
       "    }\n",
       "\n",
       "    .dataframe tbody tr th {\n",
       "        vertical-align: top;\n",
       "    }\n",
       "\n",
       "    .dataframe thead th {\n",
       "        text-align: right;\n",
       "    }\n",
       "</style>\n",
       "<table border=\"1\" class=\"dataframe\">\n",
       "  <thead>\n",
       "    <tr style=\"text-align: right;\">\n",
       "      <th></th>\n",
       "      <th>Id</th>\n",
       "      <th>SalePrice</th>\n",
       "    </tr>\n",
       "  </thead>\n",
       "  <tbody>\n",
       "    <tr>\n",
       "      <th>0</th>\n",
       "      <td>1461</td>\n",
       "      <td>115980.468750</td>\n",
       "    </tr>\n",
       "    <tr>\n",
       "      <th>1</th>\n",
       "      <td>1462</td>\n",
       "      <td>167492.031250</td>\n",
       "    </tr>\n",
       "    <tr>\n",
       "      <th>2</th>\n",
       "      <td>1463</td>\n",
       "      <td>185023.671875</td>\n",
       "    </tr>\n",
       "    <tr>\n",
       "      <th>3</th>\n",
       "      <td>1464</td>\n",
       "      <td>185061.671875</td>\n",
       "    </tr>\n",
       "    <tr>\n",
       "      <th>4</th>\n",
       "      <td>1465</td>\n",
       "      <td>184884.953125</td>\n",
       "    </tr>\n",
       "    <tr>\n",
       "      <th>...</th>\n",
       "      <td>...</td>\n",
       "      <td>...</td>\n",
       "    </tr>\n",
       "    <tr>\n",
       "      <th>1454</th>\n",
       "      <td>2915</td>\n",
       "      <td>78739.546875</td>\n",
       "    </tr>\n",
       "    <tr>\n",
       "      <th>1455</th>\n",
       "      <td>2916</td>\n",
       "      <td>74731.140625</td>\n",
       "    </tr>\n",
       "    <tr>\n",
       "      <th>1456</th>\n",
       "      <td>2917</td>\n",
       "      <td>178206.015625</td>\n",
       "    </tr>\n",
       "    <tr>\n",
       "      <th>1457</th>\n",
       "      <td>2918</td>\n",
       "      <td>119686.125000</td>\n",
       "    </tr>\n",
       "    <tr>\n",
       "      <th>1458</th>\n",
       "      <td>2919</td>\n",
       "      <td>227140.390625</td>\n",
       "    </tr>\n",
       "  </tbody>\n",
       "</table>\n",
       "<p>1459 rows × 2 columns</p>\n",
       "</div>"
      ],
      "text/plain": [
       "        Id      SalePrice\n",
       "0     1461  115980.468750\n",
       "1     1462  167492.031250\n",
       "2     1463  185023.671875\n",
       "3     1464  185061.671875\n",
       "4     1465  184884.953125\n",
       "...    ...            ...\n",
       "1454  2915   78739.546875\n",
       "1455  2916   74731.140625\n",
       "1456  2917  178206.015625\n",
       "1457  2918  119686.125000\n",
       "1458  2919  227140.390625\n",
       "\n",
       "[1459 rows x 2 columns]"
      ]
     },
     "execution_count": 9,
     "metadata": {},
     "output_type": "execute_result"
    }
   ],
   "source": [
    "test_pred = xg_reg.predict(test_1)\n",
    "test_pred = list(test_pred)\n",
    "test_pred = pd.DataFrame(list(zip(test_id,test_pred)))\n",
    "test_pred.rename({0:'Id',1:'SalePrice'},axis=1,inplace=True)\n",
    "test_pred"
   ]
  },
  {
   "cell_type": "markdown",
   "metadata": {},
   "source": [
    "# Save predictions as a CSV file"
   ]
  },
  {
   "cell_type": "code",
   "execution_count": 10,
   "metadata": {},
   "outputs": [
    {
     "name": "stdout",
     "output_type": "stream",
     "text": [
      "Saving Price Predictions 0.5.csv\n"
     ]
    }
   ],
   "source": [
    "filename = 'Price Predictions 0.5.csv'\n",
    "test_pred.to_csv(filename,index=False)\n",
    "print('Saving '+filename)"
   ]
  },
  {
   "cell_type": "code",
   "execution_count": 12,
   "metadata": {},
   "outputs": [],
   "source": [
    "# Predictions are in the top 8% globally for all 63000 submissions"
   ]
  }
 ],
 "metadata": {
  "kernelspec": {
   "display_name": "Python 3",
   "language": "python",
   "name": "python3"
  },
  "language_info": {
   "codemirror_mode": {
    "name": "ipython",
    "version": 3
   },
   "file_extension": ".py",
   "mimetype": "text/x-python",
   "name": "python",
   "nbconvert_exporter": "python",
   "pygments_lexer": "ipython3",
   "version": "3.8.3"
  }
 },
 "nbformat": 4,
 "nbformat_minor": 4
}
