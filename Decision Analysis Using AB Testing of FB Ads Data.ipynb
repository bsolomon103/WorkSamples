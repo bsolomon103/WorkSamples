{
 "cells": [
  {
   "cell_type": "code",
   "execution_count": 1,
   "metadata": {},
   "outputs": [],
   "source": [
    "import numpy as np\n",
    "import pandas as pd\n",
    "import matplotlib.pyplot as plt"
   ]
  },
  {
   "cell_type": "markdown",
   "metadata": {},
   "source": [
    "# Decision Analysis Using AB Testing with Bayesian Statistics"
   ]
  },
  {
   "cell_type": "code",
   "execution_count": 2,
   "metadata": {},
   "outputs": [],
   "source": [
    "# The analysis below tests the profitability of two seperate campaigns;\n",
    "# Namely 'music industry' & 'aggregate of musis distribution'\n",
    "# These different campaigns represent differences in target demographics and platform placements\n",
    "# The aim of this analysis is to use bayesian statistics to determine which to double down on"
   ]
  },
  {
   "cell_type": "markdown",
   "metadata": {},
   "source": [
    "# Read requisite file into program"
   ]
  },
  {
   "cell_type": "code",
   "execution_count": 3,
   "metadata": {},
   "outputs": [
    {
     "data": {
      "text/html": [
       "<div>\n",
       "<style scoped>\n",
       "    .dataframe tbody tr th:only-of-type {\n",
       "        vertical-align: middle;\n",
       "    }\n",
       "\n",
       "    .dataframe tbody tr th {\n",
       "        vertical-align: top;\n",
       "    }\n",
       "\n",
       "    .dataframe thead th {\n",
       "        text-align: right;\n",
       "    }\n",
       "</style>\n",
       "<table border=\"1\" class=\"dataframe\">\n",
       "  <thead>\n",
       "    <tr style=\"text-align: right;\">\n",
       "      <th></th>\n",
       "      <th>Campaign Name</th>\n",
       "      <th>Time of Day (Ad Account Time Zone)</th>\n",
       "      <th>Impressions</th>\n",
       "      <th>Frequency</th>\n",
       "      <th>Currency</th>\n",
       "      <th>Amount Spent (GBP)</th>\n",
       "      <th>Landing Page Views</th>\n",
       "      <th>Cost per Landing Page View</th>\n",
       "      <th>Purchases</th>\n",
       "      <th>Cost per Purchase</th>\n",
       "      <th>Cost per 1,000 People Reached</th>\n",
       "      <th>CPM (Cost per 1,000 Impressions)</th>\n",
       "      <th>Reporting Starts</th>\n",
       "      <th>Reporting Ends</th>\n",
       "    </tr>\n",
       "  </thead>\n",
       "  <tbody>\n",
       "    <tr>\n",
       "      <th>0</th>\n",
       "      <td>Music Industry</td>\n",
       "      <td>20:00:00 - 20:59:59</td>\n",
       "      <td>507</td>\n",
       "      <td>NaN</td>\n",
       "      <td>GBP</td>\n",
       "      <td>4.647701</td>\n",
       "      <td>4.0</td>\n",
       "      <td>1.161925</td>\n",
       "      <td>NaN</td>\n",
       "      <td>NaN</td>\n",
       "      <td>NaN</td>\n",
       "      <td>9.167064</td>\n",
       "      <td>2020-12-01</td>\n",
       "      <td>2021-02-25</td>\n",
       "    </tr>\n",
       "    <tr>\n",
       "      <th>1</th>\n",
       "      <td>Music Industry</td>\n",
       "      <td>19:00:00 - 19:59:59</td>\n",
       "      <td>501</td>\n",
       "      <td>NaN</td>\n",
       "      <td>GBP</td>\n",
       "      <td>4.396746</td>\n",
       "      <td>1.0</td>\n",
       "      <td>4.396746</td>\n",
       "      <td>NaN</td>\n",
       "      <td>NaN</td>\n",
       "      <td>NaN</td>\n",
       "      <td>8.775939</td>\n",
       "      <td>2020-12-01</td>\n",
       "      <td>2021-02-25</td>\n",
       "    </tr>\n",
       "    <tr>\n",
       "      <th>2</th>\n",
       "      <td>Music Industry</td>\n",
       "      <td>21:00:00 - 21:59:59</td>\n",
       "      <td>428</td>\n",
       "      <td>NaN</td>\n",
       "      <td>GBP</td>\n",
       "      <td>4.386707</td>\n",
       "      <td>5.0</td>\n",
       "      <td>0.877341</td>\n",
       "      <td>NaN</td>\n",
       "      <td>NaN</td>\n",
       "      <td>NaN</td>\n",
       "      <td>10.249316</td>\n",
       "      <td>2020-12-01</td>\n",
       "      <td>2021-02-25</td>\n",
       "    </tr>\n",
       "    <tr>\n",
       "      <th>3</th>\n",
       "      <td>Music Industry</td>\n",
       "      <td>18:00:00 - 18:59:59</td>\n",
       "      <td>476</td>\n",
       "      <td>NaN</td>\n",
       "      <td>GBP</td>\n",
       "      <td>4.206019</td>\n",
       "      <td>3.0</td>\n",
       "      <td>1.402006</td>\n",
       "      <td>NaN</td>\n",
       "      <td>NaN</td>\n",
       "      <td>NaN</td>\n",
       "      <td>8.836175</td>\n",
       "      <td>2020-12-01</td>\n",
       "      <td>2021-02-25</td>\n",
       "    </tr>\n",
       "    <tr>\n",
       "      <th>4</th>\n",
       "      <td>Music Industry</td>\n",
       "      <td>08:00:00 - 08:59:59</td>\n",
       "      <td>413</td>\n",
       "      <td>NaN</td>\n",
       "      <td>GBP</td>\n",
       "      <td>3.814528</td>\n",
       "      <td>4.0</td>\n",
       "      <td>0.953632</td>\n",
       "      <td>1.0</td>\n",
       "      <td>3.814528</td>\n",
       "      <td>NaN</td>\n",
       "      <td>9.236146</td>\n",
       "      <td>2020-12-01</td>\n",
       "      <td>2021-02-25</td>\n",
       "    </tr>\n",
       "    <tr>\n",
       "      <th>...</th>\n",
       "      <td>...</td>\n",
       "      <td>...</td>\n",
       "      <td>...</td>\n",
       "      <td>...</td>\n",
       "      <td>...</td>\n",
       "      <td>...</td>\n",
       "      <td>...</td>\n",
       "      <td>...</td>\n",
       "      <td>...</td>\n",
       "      <td>...</td>\n",
       "      <td>...</td>\n",
       "      <td>...</td>\n",
       "      <td>...</td>\n",
       "      <td>...</td>\n",
       "    </tr>\n",
       "    <tr>\n",
       "      <th>538</th>\n",
       "      <td>Conversions  - 01 - Feb</td>\n",
       "      <td>14:00:00 - 14:59:59</td>\n",
       "      <td>1</td>\n",
       "      <td>NaN</td>\n",
       "      <td>GBP</td>\n",
       "      <td>0.010000</td>\n",
       "      <td>NaN</td>\n",
       "      <td>NaN</td>\n",
       "      <td>NaN</td>\n",
       "      <td>NaN</td>\n",
       "      <td>NaN</td>\n",
       "      <td>10.000000</td>\n",
       "      <td>2020-12-01</td>\n",
       "      <td>2021-02-25</td>\n",
       "    </tr>\n",
       "    <tr>\n",
       "      <th>539</th>\n",
       "      <td>Males</td>\n",
       "      <td>14:00:00 - 14:59:59</td>\n",
       "      <td>1</td>\n",
       "      <td>NaN</td>\n",
       "      <td>GBP</td>\n",
       "      <td>NaN</td>\n",
       "      <td>NaN</td>\n",
       "      <td>NaN</td>\n",
       "      <td>NaN</td>\n",
       "      <td>NaN</td>\n",
       "      <td>NaN</td>\n",
       "      <td>NaN</td>\n",
       "      <td>2020-12-01</td>\n",
       "      <td>2021-02-25</td>\n",
       "    </tr>\n",
       "    <tr>\n",
       "      <th>540</th>\n",
       "      <td>Conversions - Jan 6 - PageViews LL (Copy)</td>\n",
       "      <td>09:00:00 - 09:59:59</td>\n",
       "      <td>2</td>\n",
       "      <td>NaN</td>\n",
       "      <td>GBP</td>\n",
       "      <td>NaN</td>\n",
       "      <td>NaN</td>\n",
       "      <td>NaN</td>\n",
       "      <td>NaN</td>\n",
       "      <td>NaN</td>\n",
       "      <td>NaN</td>\n",
       "      <td>NaN</td>\n",
       "      <td>2020-12-01</td>\n",
       "      <td>2021-02-25</td>\n",
       "    </tr>\n",
       "    <tr>\n",
       "      <th>541</th>\n",
       "      <td>Conversion - Jan 8 - Brand New</td>\n",
       "      <td>09:00:00 - 09:59:59</td>\n",
       "      <td>1</td>\n",
       "      <td>NaN</td>\n",
       "      <td>GBP</td>\n",
       "      <td>NaN</td>\n",
       "      <td>NaN</td>\n",
       "      <td>NaN</td>\n",
       "      <td>NaN</td>\n",
       "      <td>NaN</td>\n",
       "      <td>NaN</td>\n",
       "      <td>NaN</td>\n",
       "      <td>2020-12-01</td>\n",
       "      <td>2021-02-25</td>\n",
       "    </tr>\n",
       "    <tr>\n",
       "      <th>542</th>\n",
       "      <td>Males</td>\n",
       "      <td>17:00:00 - 17:59:59</td>\n",
       "      <td>2</td>\n",
       "      <td>NaN</td>\n",
       "      <td>GBP</td>\n",
       "      <td>NaN</td>\n",
       "      <td>NaN</td>\n",
       "      <td>NaN</td>\n",
       "      <td>NaN</td>\n",
       "      <td>NaN</td>\n",
       "      <td>NaN</td>\n",
       "      <td>NaN</td>\n",
       "      <td>2020-12-01</td>\n",
       "      <td>2021-02-25</td>\n",
       "    </tr>\n",
       "  </tbody>\n",
       "</table>\n",
       "<p>543 rows × 14 columns</p>\n",
       "</div>"
      ],
      "text/plain": [
       "                                 Campaign Name  \\\n",
       "0                               Music Industry   \n",
       "1                               Music Industry   \n",
       "2                               Music Industry   \n",
       "3                               Music Industry   \n",
       "4                               Music Industry   \n",
       "..                                         ...   \n",
       "538                    Conversions  - 01 - Feb   \n",
       "539                                      Males   \n",
       "540  Conversions - Jan 6 - PageViews LL (Copy)   \n",
       "541             Conversion - Jan 8 - Brand New   \n",
       "542                                      Males   \n",
       "\n",
       "    Time of Day (Ad Account Time Zone)  Impressions  Frequency Currency  \\\n",
       "0                  20:00:00 - 20:59:59          507        NaN      GBP   \n",
       "1                  19:00:00 - 19:59:59          501        NaN      GBP   \n",
       "2                  21:00:00 - 21:59:59          428        NaN      GBP   \n",
       "3                  18:00:00 - 18:59:59          476        NaN      GBP   \n",
       "4                  08:00:00 - 08:59:59          413        NaN      GBP   \n",
       "..                                 ...          ...        ...      ...   \n",
       "538                14:00:00 - 14:59:59            1        NaN      GBP   \n",
       "539                14:00:00 - 14:59:59            1        NaN      GBP   \n",
       "540                09:00:00 - 09:59:59            2        NaN      GBP   \n",
       "541                09:00:00 - 09:59:59            1        NaN      GBP   \n",
       "542                17:00:00 - 17:59:59            2        NaN      GBP   \n",
       "\n",
       "     Amount Spent (GBP)  Landing Page Views  Cost per Landing Page View  \\\n",
       "0              4.647701                 4.0                    1.161925   \n",
       "1              4.396746                 1.0                    4.396746   \n",
       "2              4.386707                 5.0                    0.877341   \n",
       "3              4.206019                 3.0                    1.402006   \n",
       "4              3.814528                 4.0                    0.953632   \n",
       "..                  ...                 ...                         ...   \n",
       "538            0.010000                 NaN                         NaN   \n",
       "539                 NaN                 NaN                         NaN   \n",
       "540                 NaN                 NaN                         NaN   \n",
       "541                 NaN                 NaN                         NaN   \n",
       "542                 NaN                 NaN                         NaN   \n",
       "\n",
       "     Purchases  Cost per Purchase  Cost per 1,000 People Reached  \\\n",
       "0          NaN                NaN                            NaN   \n",
       "1          NaN                NaN                            NaN   \n",
       "2          NaN                NaN                            NaN   \n",
       "3          NaN                NaN                            NaN   \n",
       "4          1.0           3.814528                            NaN   \n",
       "..         ...                ...                            ...   \n",
       "538        NaN                NaN                            NaN   \n",
       "539        NaN                NaN                            NaN   \n",
       "540        NaN                NaN                            NaN   \n",
       "541        NaN                NaN                            NaN   \n",
       "542        NaN                NaN                            NaN   \n",
       "\n",
       "     CPM (Cost per 1,000 Impressions) Reporting Starts Reporting Ends  \n",
       "0                            9.167064       2020-12-01     2021-02-25  \n",
       "1                            8.775939       2020-12-01     2021-02-25  \n",
       "2                           10.249316       2020-12-01     2021-02-25  \n",
       "3                            8.836175       2020-12-01     2021-02-25  \n",
       "4                            9.236146       2020-12-01     2021-02-25  \n",
       "..                                ...              ...            ...  \n",
       "538                         10.000000       2020-12-01     2021-02-25  \n",
       "539                               NaN       2020-12-01     2021-02-25  \n",
       "540                               NaN       2020-12-01     2021-02-25  \n",
       "541                               NaN       2020-12-01     2021-02-25  \n",
       "542                               NaN       2020-12-01     2021-02-25  \n",
       "\n",
       "[543 rows x 14 columns]"
      ]
     },
     "execution_count": 3,
     "metadata": {},
     "output_type": "execute_result"
    }
   ],
   "source": [
    "time = pd.read_csv('/Users/emilyvincett/Downloads/Time (1).csv')\n",
    "time"
   ]
  },
  {
   "cell_type": "code",
   "execution_count": 4,
   "metadata": {},
   "outputs": [],
   "source": [
    "# Use a boolean mask to filter the dataframe by interested campaigns \n",
    "\n",
    "mi = time[time['Campaign Name']=='Music Industry']\n",
    "distro = time[(time['Campaign Name']=='Dig Distribution (Global)')|\n",
    "     (time['Campaign Name']=='The One')|(time['Campaign Name']=='Conversions: 16 - 34/Distribution')]"
   ]
  },
  {
   "cell_type": "markdown",
   "metadata": {},
   "source": [
    "# Purchases & Impressions in each campaign"
   ]
  },
  {
   "cell_type": "code",
   "execution_count": 5,
   "metadata": {},
   "outputs": [
    {
     "name": "stdout",
     "output_type": "stream",
     "text": [
      "Music Distribution yielded 12 sales from 7884 impressions\n",
      "Music Industry yielded 7 sales from 7628 impressions\n"
     ]
    }
   ],
   "source": [
    "print('Music Distribution yielded %d sales from %d impressions\\nMusic Industry yielded %d sales from %d impressions'\n",
    "      %(distro['Purchases'].sum(),distro['Impressions'].sum(),mi['Purchases'].sum(),mi['Impressions'].sum()))"
   ]
  },
  {
   "cell_type": "markdown",
   "metadata": {},
   "source": [
    "# Ratio of sales to impressions in each campaign group"
   ]
  },
  {
   "cell_type": "code",
   "execution_count": 6,
   "metadata": {},
   "outputs": [
    {
     "name": "stdout",
     "output_type": "stream",
     "text": [
      "Music Distribution Campaign Ratio is 0.001522\n",
      "Music Industry Campaign Ratio is 0.000918\n"
     ]
    }
   ],
   "source": [
    "per_distro = distro['Purchases'].sum()/distro['Impressions'].sum()\n",
    "per_mi = mi['Purchases'].sum()/mi['Impressions'].sum()\n",
    "print('Music Distribution Campaign Ratio is %.6f\\nMusic Industry Campaign Ratio is %.6f' %(per_distro, per_mi))"
   ]
  },
  {
   "cell_type": "markdown",
   "metadata": {},
   "source": [
    "# Using a non informative prior distribution"
   ]
  },
  {
   "cell_type": "code",
   "execution_count": 7,
   "metadata": {},
   "outputs": [],
   "source": [
    "# This prior distribution assumes an equal likelihood of values between 0 & 1.\n",
    "# This is the assummed purchase rate before our model sees any data.\n",
    "# Bayesian statistics needs 3 components the first of which is a prior distribution.\n",
    "# This represents what our data would look like if we had no data but as our data gets larger we would\n",
    "# expect the influence of the prior to reduce. \n",
    "# Will generate 100000 probabilites between 0 & 1. \n",
    "\n",
    "\n",
    "prior_rate = np.random.uniform(0,1,100000)"
   ]
  },
  {
   "cell_type": "markdown",
   "metadata": {},
   "source": [
    "# Generative Model"
   ]
  },
  {
   "cell_type": "code",
   "execution_count": 8,
   "metadata": {},
   "outputs": [],
   "source": [
    "# I've built 2 different models to represent our assumption of how our data has been generated.\n",
    "# Using a binomial distribution to simulate the uncertainty of purchases. \n",
    "# It's a good distribution to model these types of discrete random events, representing\n",
    "# a generalised Bernoulli trial, p representing the probability of sales for each simulation of x impressions.\n",
    "# The model calculates the likelihood of generating our data i.e actual sales using each p value generated by \n",
    "# the prior rate.\n",
    "\n",
    "def gen_model_a(p):\n",
    "    return np.random.binomial(7884,p)\n",
    "\n",
    "def gen_model_b(p):\n",
    "    return np.random.binomial(7628,p)\n",
    "\n",
    "\n",
    "# This process will generated different predicted sales for each simulation but we only select the predictions \n",
    "# that match our achieved sales i.e. 12 for model A and 7 for model B, along with their\n",
    "# associated predicted purchase rates.\n",
    "\n",
    "actual_purchases = distro['Purchases'].sum()\n",
    "actual_purchases_b = mi['Purchases'].sum()\n",
    "\n",
    "predicted_purchases = []\n",
    "for p in prior_rate:\n",
    "    predicted_purchases.append(gen_model_a(p))\n",
    "\n",
    "predicted_purchases_b = []\n",
    "for prob in prior_rate:\n",
    "    predicted_purchases_b.append(gen_model_b(prob))    "
   ]
  },
  {
   "cell_type": "markdown",
   "metadata": {},
   "source": [
    "# Posterior Rates"
   ]
  },
  {
   "cell_type": "code",
   "execution_count": 9,
   "metadata": {},
   "outputs": [],
   "source": [
    "post_rate = prior_rate[list(map(lambda x: x==actual_purchases,predicted_purchases))]\n",
    "post_rate_b = prior_rate[list(map(lambda x: x== actual_purchases_b,predicted_purchases_b))]"
   ]
  },
  {
   "cell_type": "markdown",
   "metadata": {},
   "source": [
    "# Visualising our Prior and Posterior Distribution"
   ]
  },
  {
   "cell_type": "code",
   "execution_count": 10,
   "metadata": {},
   "outputs": [
    {
     "data": {
      "image/png": "[encoded data removed]",
      "text/plain": [
       "<Figure size 864x576 with 3 Axes>"
      ]
     },
     "metadata": {
      "needs_background": "light"
     },
     "output_type": "display_data"
    }
   ],
   "source": [
    "plt.figure(figsize=(12,8))\n",
    "plt.subplot(1,3,1)\n",
    "plt.title('Prior Rate')\n",
    "plt.hist(prior_rate)\n",
    "plt.subplot(1,3,2)\n",
    "plt.title('Music Distribution')\n",
    "plt.hist(post_rate)\n",
    "plt.xticks(rotation=45)\n",
    "plt.subplot(1,3,3)\n",
    "plt.title('Music Industry')\n",
    "plt.hist(post_rate_b)\n",
    "plt.xticks(rotation=45)\n",
    "\n",
    "plt.show()"
   ]
  },
  {
   "cell_type": "markdown",
   "metadata": {},
   "source": [
    "# Dataframe of Predicted Purchase Rates"
   ]
  },
  {
   "cell_type": "code",
   "execution_count": 11,
   "metadata": {},
   "outputs": [
    {
     "data": {
      "text/html": [
       "<div>\n",
       "<style scoped>\n",
       "    .dataframe tbody tr th:only-of-type {\n",
       "        vertical-align: middle;\n",
       "    }\n",
       "\n",
       "    .dataframe tbody tr th {\n",
       "        vertical-align: top;\n",
       "    }\n",
       "\n",
       "    .dataframe thead th {\n",
       "        text-align: right;\n",
       "    }\n",
       "</style>\n",
       "<table border=\"1\" class=\"dataframe\">\n",
       "  <thead>\n",
       "    <tr style=\"text-align: right;\">\n",
       "      <th></th>\n",
       "      <th>Music Distribution</th>\n",
       "      <th>Music Industry</th>\n",
       "    </tr>\n",
       "  </thead>\n",
       "  <tbody>\n",
       "    <tr>\n",
       "      <th>0</th>\n",
       "      <td>0.001759</td>\n",
       "      <td>0.000943</td>\n",
       "    </tr>\n",
       "    <tr>\n",
       "      <th>1</th>\n",
       "      <td>0.001530</td>\n",
       "      <td>0.001329</td>\n",
       "    </tr>\n",
       "    <tr>\n",
       "      <th>2</th>\n",
       "      <td>0.001256</td>\n",
       "      <td>0.001385</td>\n",
       "    </tr>\n",
       "    <tr>\n",
       "      <th>3</th>\n",
       "      <td>0.001039</td>\n",
       "      <td>0.000947</td>\n",
       "    </tr>\n",
       "    <tr>\n",
       "      <th>4</th>\n",
       "      <td>0.001506</td>\n",
       "      <td>0.001091</td>\n",
       "    </tr>\n",
       "    <tr>\n",
       "      <th>5</th>\n",
       "      <td>0.002282</td>\n",
       "      <td>0.001021</td>\n",
       "    </tr>\n",
       "    <tr>\n",
       "      <th>6</th>\n",
       "      <td>0.001402</td>\n",
       "      <td>0.000563</td>\n",
       "    </tr>\n",
       "    <tr>\n",
       "      <th>7</th>\n",
       "      <td>0.001228</td>\n",
       "      <td>0.001103</td>\n",
       "    </tr>\n",
       "  </tbody>\n",
       "</table>\n",
       "</div>"
      ],
      "text/plain": [
       "   Music Distribution  Music Industry\n",
       "0            0.001759        0.000943\n",
       "1            0.001530        0.001329\n",
       "2            0.001256        0.001385\n",
       "3            0.001039        0.000947\n",
       "4            0.001506        0.001091\n",
       "5            0.002282        0.001021\n",
       "6            0.001402        0.000563\n",
       "7            0.001228        0.001103"
      ]
     },
     "execution_count": 11,
     "metadata": {},
     "output_type": "execute_result"
    }
   ],
   "source": [
    "_ = pd.DataFrame(list(zip(post_rate,post_rate_b)),columns=['Music Distribution','Music Industry'])\n",
    "_"
   ]
  },
  {
   "cell_type": "markdown",
   "metadata": {},
   "source": [
    "# Which campaign is more profitable ?"
   ]
  },
  {
   "cell_type": "code",
   "execution_count": 12,
   "metadata": {},
   "outputs": [
    {
     "name": "stdout",
     "output_type": "stream",
     "text": [
      "Music Distribution is more profitable than Music Industry 87% of the time\n"
     ]
    }
   ],
   "source": [
    "# Each purchase earns £10 and cost per acquisiton is £5.\n",
    "_['Profit Music Distribution']= _['Music Distribution']*(10-5)\n",
    "_['Profit Music Industry'] = _['Music Industry']*(10-5)\n",
    "_['diff'] = _['Profit Music Industry'] - _['Profit Music Distribution']\n",
    "print('Music Distribution is more profitable than Music Industry %d%% of the time'\n",
    "      %(len(_[_['diff']<0])/len(_)*100))"
   ]
  },
  {
   "cell_type": "code",
   "execution_count": 13,
   "metadata": {},
   "outputs": [],
   "source": [
    "# This analysis can be improved by using a more informative prior distribution. \n",
    "# Represented by a Beta distribution which is congruent with the binomial used in the generative model\n",
    "# This approach will allow for expert opinion to be represented in the model, as opposed to assuming equal\n",
    "# likelihood of purchase rate between 0 & 1, which is not realistic."
   ]
  }
 ],
 "metadata": {
  "kernelspec": {
   "display_name": "Python 3",
   "language": "python",
   "name": "python3"
  },
  "language_info": {
   "codemirror_mode": {
    "name": "ipython",
    "version": 3
   },
   "file_extension": ".py",
   "mimetype": "text/x-python",
   "name": "python",
   "nbconvert_exporter": "python",
   "pygments_lexer": "ipython3",
   "version": "3.8.3"
  }
 },
 "nbformat": 4,
 "nbformat_minor": 4
}
