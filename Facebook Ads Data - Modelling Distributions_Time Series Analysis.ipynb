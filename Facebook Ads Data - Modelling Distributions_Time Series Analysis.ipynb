{
 "cells": [
  {
   "cell_type": "code",
   "execution_count": 1,
   "metadata": {},
   "outputs": [
    {
     "name": "stdout",
     "output_type": "stream",
     "text": [
      "/Users/emilyvincett/Downloads/ThinkStats2-master/code\n"
     ]
    }
   ],
   "source": [
    "cd /Users/emilyvincett/Downloads/ThinkStats2-master/code"
   ]
  },
  {
   "cell_type": "code",
   "execution_count": 108,
   "metadata": {},
   "outputs": [],
   "source": [
    "import pandas as pd\n",
    "import numpy as np \n",
    "import statsmodels.formula.api as smf\n",
    "import statsmodels.tsa.stattools as smtsa\n",
    "import statsmodels.api as sm\n",
    "import matplotlib.pyplot as plt\n",
    "import scipy.stats\n",
    "from scipy.stats import ttest_1samp,ttest_ind,wilcoxon,shapiro\n",
    "import seaborn as sns\n",
    "import thinkstats2\n",
    "import thinkplot\n",
    "import datetime\n",
    "import regression\n",
    "import timeseries\n",
    "import warnings \n",
    "with warnings.catch_warnings():\n",
    "    warnings.filterwarnings('ignore',category=DeprecationWarning)"
   ]
  },
  {
   "cell_type": "markdown",
   "metadata": {},
   "source": [
    "# Read requisite files into program"
   ]
  },
  {
   "cell_type": "code",
   "execution_count": 109,
   "metadata": {
    "scrolled": false
   },
   "outputs": [],
   "source": [
    "# The data being analysed is campaign data from Facebook's Ad Manager\n",
    "# Data : Delivery of campaign by day/month\n",
    "\n",
    "data = pd.read_csv('/Users/emilyvincett/Downloads/Daily (1).csv')"
   ]
  },
  {
   "cell_type": "code",
   "execution_count": 110,
   "metadata": {},
   "outputs": [],
   "source": [
    "# Renaming columns and dropping unccessary columns across all files\n",
    "\n",
    "data.rename({'Campaign Name':'Campaign','Amount Spent (GBP)':'Amount',\n",
    "            'Landing Page Views':'LandingPageViews',\n",
    "            'Cost per Landing Page View':'CPLPV',\n",
    "            'Cost per Purchase':'CPP'},axis=1,inplace=True)\n",
    "data.drop(['Reporting Starts','Reporting Ends'],axis=1,inplace=True)"
   ]
  },
  {
   "cell_type": "code",
   "execution_count": 111,
   "metadata": {},
   "outputs": [],
   "source": [
    "# The correlation data shows a negative relationship btw Cost per purchase and Purchases\n",
    "# Which makes sense the more expensive each purchase the more of my budget is spent searching for customers\n",
    "# Cost per purchase is strongly positively correlated with Cost per 1000 Impressions\n",
    "# The more expensive the Impressions, the higher my Cost per purchases.\n",
    "# Cheaper impressions, lead to more reach, which increases landing page views, reducing the cost for each \n",
    "# landing page view and cost per purchase ========> More Purchases\n",
    "\n",
    "# Cheaper(Impressions + Reach) + More(Landing Page Views) - (Cost Per Landing Page Views) - (Cost Per Purchase)\n",
    "# ========>> More(Purchases)\n",
    "\n",
    "#### Is there a material difference between the Purchases when CPM (cost per 1000 impressions) cost above and\n",
    "## below £10."
   ]
  },
  {
   "cell_type": "code",
   "execution_count": 112,
   "metadata": {},
   "outputs": [],
   "source": [
    "# Fill null values with 0. \n",
    "data['Purchases'].fillna(0,inplace=True)\n",
    "\n",
    "# Create a new column to represent the cost per 1000 impressions\n",
    "data['C1000IMP'] = (data['Amount']/data['Impressions'])*1000\n",
    "\n",
    "# Use boolean logic to divide the dataset into 2 cost groups.\n",
    "# i.e. High = above £10 cost per 1000 impression and Low if otherwise\n",
    "data['Cost'] = np.where(data['C1000IMP']<10,'Low','High')"
   ]
  },
  {
   "cell_type": "markdown",
   "metadata": {},
   "source": [
    "# Filter dataset by only winning campaings"
   ]
  },
  {
   "cell_type": "code",
   "execution_count": 113,
   "metadata": {},
   "outputs": [
    {
     "name": "stdout",
     "output_type": "stream",
     "text": [
      "The filtered dataset contains only 25 rows,13 columns\n",
      "Its not a large enough dataset to draw meaningful inference from but ill proceed\n"
     ]
    }
   ],
   "source": [
    "# Only 6 Campaigns have generated Purchases to calculate on\n",
    "# Assess difference between these groups \n",
    "\n",
    "selected_campaigns = data[data['Purchases']>0]['Campaign'].drop_duplicates()\n",
    "\n",
    "df = pd.DataFrame()\n",
    "\n",
    "for a in selected_campaigns:\n",
    "    df = df.append(data[data['Campaign']==a])\n",
    "\n",
    "s = df.groupby('Campaign')['C1000IMP'].mean().sort_values(ascending=False).index\n",
    "for a in enumerate(s):\n",
    "    df.replace(a[1],a[0],inplace=True)\n",
    "df['Campaign']+=1\n",
    "\n",
    "\n",
    "print('The filtered dataset contains only %d rows,%d columns\\nIts not a large enough dataset to draw meaningful inference from but ill proceed'%(df.shape))"
   ]
  },
  {
   "cell_type": "code",
   "execution_count": 114,
   "metadata": {},
   "outputs": [
    {
     "data": {
      "text/plain": [
       "((7, 13), (18, 13))"
      ]
     },
     "execution_count": 114,
     "metadata": {},
     "output_type": "execute_result"
    }
   ],
   "source": [
    "# Divide the dataframe into a high cost per 1000 impression group and \n",
    "# a low cost per 1000 impression group\n",
    "high = df[df['Cost']=='High']\n",
    "low = df[df['Cost']=='Low']\n",
    "high.shape,low.shape"
   ]
  },
  {
   "cell_type": "code",
   "execution_count": 115,
   "metadata": {},
   "outputs": [
    {
     "name": "stdout",
     "output_type": "stream",
     "text": [
      "Statistic: 0.9672, P value: 0.5744\n",
      "The data is Normal\n"
     ]
    }
   ],
   "source": [
    "# When data is restricted only to campaigns that yielded Purchases the CPM's become normally distributed\n",
    "# evidenced by the results of the shapiro wilks test below.\n",
    "\n",
    "costs = df['C1000IMP']\n",
    "stats, p = shapiro(costs)\n",
    "print('Statistic: %.4f, P value: %.4f'%(stats,p))\n",
    "\n",
    "if p > 0.05:\n",
    "    print('The data is Normal')\n",
    "else:\n",
    "    print('The data is not Normal')\n",
    "    \n",
    "# Since the data is normal I will attempt parametric modelling via linear regression to \n",
    "# see if i can accurately predict CPM's"
   ]
  },
  {
   "cell_type": "markdown",
   "metadata": {},
   "source": [
    "# Visualising the C1000IMP "
   ]
  },
  {
   "cell_type": "code",
   "execution_count": 116,
   "metadata": {},
   "outputs": [
    {
     "data": {
      "text/plain": [
       "0.13306427733007126"
      ]
     },
     "execution_count": 116,
     "metadata": {},
     "output_type": "execute_result"
    },
    {
     "data": {
      "image/png": "[encoded data removed]",
      "text/plain": [
       "<Figure size 432x288 with 1 Axes>"
      ]
     },
     "metadata": {
      "needs_background": "light"
     },
     "output_type": "display_data"
    }
   ],
   "source": [
    "sns.distplot(df['C1000IMP'])\n",
    "df['C1000IMP'].skew()\n",
    "\n",
    "# The eyetest suggest a normal distribution of the data."
   ]
  },
  {
   "cell_type": "code",
   "execution_count": 117,
   "metadata": {},
   "outputs": [
    {
     "name": "stdout",
     "output_type": "stream",
     "text": [
      "1 Sample High Cost Group\n",
      "Statistics: 4.671, P: 0.003\n",
      "\n",
      "1 Sample Low Cost Group\n",
      "Statistics: -2.860, P: 0.011\n",
      "\n",
      "2 Sample Comparison Group\n",
      "Statistics: -5.430, P: 0.000\n",
      "\n"
     ]
    }
   ],
   "source": [
    "# First test the strength of mean difference between each of high and low vs the overall dataset\n",
    "# We can use a ttest here because our data is normally distributed\n",
    "\n",
    "stats, p = scipy.stats.ttest_1samp(high['C1000IMP'],df['C1000IMP'].mean())\n",
    "print('1 Sample High Cost Group\\nStatistics: %.3f, P: %.3f'%(stats, p))\n",
    "print()\n",
    "stats2, p2 = scipy.stats.ttest_1samp(low['C1000IMP'],df['C1000IMP'].mean())\n",
    "print('1 Sample Low Cost Group\\nStatistics: %.3f, P: %.3f'%(stats2, p2))\n",
    "stats3,p3 = scipy.stats.ttest_ind(low['C1000IMP'],high['C1000IMP'])\n",
    "print()\n",
    "print('2 Sample Comparison Group\\nStatistics: %.3f, P: %.3f'%(stats3, p3))\n",
    "print()\n",
    "\n",
    "# Both high and low cost groups show a difference to the overall dataset.\n",
    "# But show an even greater difference with to each other."
   ]
  },
  {
   "cell_type": "code",
   "execution_count": 118,
   "metadata": {},
   "outputs": [],
   "source": [
    "# Function to calculate the Root Mean Square Error of my soon to be built model\n",
    "# of the Cost per 1000 impressions\n",
    "actual = df['C1000IMP']\n",
    "def RMSE(estimates, actual):\n",
    "    error = [(estimate - actual)**2 for estimate in estimates]\n",
    "    e = np.mean(error)\n",
    "    return np.sqrt(e)"
   ]
  },
  {
   "cell_type": "markdown",
   "metadata": {},
   "source": [
    "# Normal Model Of Impression Costs"
   ]
  },
  {
   "cell_type": "code",
   "execution_count": 136,
   "metadata": {},
   "outputs": [
    {
     "name": "stdout",
     "output_type": "stream",
     "text": [
      "The normally distributed analytic model fits the data quite well\n",
      "RMSE XBAR: 0.882698\n",
      "RMSE Medians: 0.882698\n"
     ]
    },
    {
     "data": {
      "image/png": "[encoded data removed]",
      "text/plain": [
       "<Figure size 432x288 with 1 Axes>"
      ]
     },
     "metadata": {
      "needs_background": "light"
     },
     "output_type": "display_data"
    }
   ],
   "source": [
    "cdf = thinkstats2.Cdf(df['C1000IMP'])\n",
    "thinkplot.Cdf(cdf,label='Observed')\n",
    "\n",
    "mean,var = thinkstats2.MeanVar(df['C1000IMP'])\n",
    "std = np.sqrt(var)\n",
    "m1 = []\n",
    "m2 = []\n",
    "\n",
    "xs, ps = thinkstats2.RenderNormalCdf(mean,std,low=1,high=15)\n",
    "means = xs.mean()\n",
    "m1.append(means)\n",
    "medians = thinkstats2.Median(xs)\n",
    "m2.append(medians)\n",
    "label = 'Model $\\mu=%.2g$, $\\sigma=%.2g$' %(mean, std)\n",
    "thinkplot.Plot(xs,ps,color='r',label=label)\n",
    "thinkplot.Config(title='Normal Model of Impression Cost',xlabel='Cost',ylabel='CDF')\n",
    "print('The normally distributed analytic model fits the data quite well\\nRMSE XBAR: %f'%(RMSE(m1,mean)))\n",
    "print('RMSE Medians: %f' %(RMSE(m2,mean)))"
   ]
  },
  {
   "cell_type": "code",
   "execution_count": 120,
   "metadata": {},
   "outputs": [
    {
     "data": {
      "text/plain": [
       "[(0.725071385687049, 'Cost'),\n",
       " (0.6335843145487299, 'CPP'),\n",
       " (0.5794068730411022, 'Impressions'),\n",
       " (0.5715857283362343, 'Reach'),\n",
       " (0.5414009084733614, 'LandingPageViews'),\n",
       " (0.5308350444959209, 'CPLPV'),\n",
       " (0.5220468776188413, 'Frequency'),\n",
       " (0.5193522572516128, 'Amount'),\n",
       " (0.5185845075348827, 'Purchases'),\n",
       " (0.5183882911533195, 'Currency'),\n",
       " (0.5183882911533195, 'Campaign')]"
      ]
     },
     "execution_count": 120,
     "metadata": {},
     "output_type": "execute_result"
    }
   ],
   "source": [
    "# Because the analytic model fit the data well, i'll use a linear regressions model \n",
    "# to try to predict cost per 1000 impression using a range of predictors. \n",
    "# The code below builds multiple models with each input variable and Campaign to determine\n",
    "# explained variance in each. \n",
    "# The results are stored in the list variances.\n",
    "\n",
    "variances = []\n",
    "\n",
    "for name in df.columns:\n",
    "    try:\n",
    "        formula = 'C1000IMP ~ Campaign+' +name\n",
    "        model = smf.ols(formula,data=df)\n",
    "        results = model.fit()\n",
    "    except (ValueError,TypeError):\n",
    "        continue\n",
    "    variances.append((results.rsquared,name))  \n",
    "    \n",
    "variances.sort(reverse=True)\n",
    "variances[2:]"
   ]
  },
  {
   "cell_type": "code",
   "execution_count": 121,
   "metadata": {},
   "outputs": [
    {
     "data": {
      "text/html": [
       "<table class=\"simpletable\">\n",
       "<caption>OLS Regression Results</caption>\n",
       "<tr>\n",
       "  <th>Dep. Variable:</th>        <td>C1000IMP</td>     <th>  R-squared:         </th> <td>   0.695</td>\n",
       "</tr>\n",
       "<tr>\n",
       "  <th>Model:</th>                   <td>OLS</td>       <th>  Adj. R-squared:    </th> <td>   0.651</td>\n",
       "</tr>\n",
       "<tr>\n",
       "  <th>Method:</th>             <td>Least Squares</td>  <th>  F-statistic:       </th> <td>   15.91</td>\n",
       "</tr>\n",
       "<tr>\n",
       "  <th>Date:</th>             <td>Sat, 20 Mar 2021</td> <th>  Prob (F-statistic):</th> <td>1.26e-05</td>\n",
       "</tr>\n",
       "<tr>\n",
       "  <th>Time:</th>                 <td>17:40:32</td>     <th>  Log-Likelihood:    </th> <td> -41.314</td>\n",
       "</tr>\n",
       "<tr>\n",
       "  <th>No. Observations:</th>      <td>    25</td>      <th>  AIC:               </th> <td>   90.63</td>\n",
       "</tr>\n",
       "<tr>\n",
       "  <th>Df Residuals:</th>          <td>    21</td>      <th>  BIC:               </th> <td>   95.50</td>\n",
       "</tr>\n",
       "<tr>\n",
       "  <th>Df Model:</th>              <td>     3</td>      <th>                     </th>     <td> </td>   \n",
       "</tr>\n",
       "<tr>\n",
       "  <th>Covariance Type:</th>      <td>nonrobust</td>    <th>                     </th>     <td> </td>   \n",
       "</tr>\n",
       "</table>\n",
       "<table class=\"simpletable\">\n",
       "<tr>\n",
       "             <td></td>                <th>coef</th>     <th>std err</th>      <th>t</th>      <th>P>|t|</th>  <th>[0.025</th>    <th>0.975]</th>  \n",
       "</tr>\n",
       "<tr>\n",
       "  <th>Intercept</th>               <td>    8.8325</td> <td>    0.810</td> <td>   10.900</td> <td> 0.000</td> <td>    7.147</td> <td>   10.518</td>\n",
       "</tr>\n",
       "<tr>\n",
       "  <th>Amount < 10[T.True]</th>     <td>   -2.4248</td> <td>    1.003</td> <td>   -2.419</td> <td> 0.025</td> <td>   -4.510</td> <td>   -0.340</td>\n",
       "</tr>\n",
       "<tr>\n",
       "  <th>Frequency > 1[T.True]</th>   <td>   -4.2730</td> <td>    1.459</td> <td>   -2.929</td> <td> 0.008</td> <td>   -7.307</td> <td>   -1.239</td>\n",
       "</tr>\n",
       "<tr>\n",
       "  <th>Frequency < 1.5[T.True]</th> <td>    8.8325</td> <td>    0.810</td> <td>   10.900</td> <td> 0.000</td> <td>    7.147</td> <td>   10.518</td>\n",
       "</tr>\n",
       "<tr>\n",
       "  <th>Campaign</th>                <td>   -0.7859</td> <td>    0.237</td> <td>   -3.316</td> <td> 0.003</td> <td>   -1.279</td> <td>   -0.293</td>\n",
       "</tr>\n",
       "</table>\n",
       "<table class=\"simpletable\">\n",
       "<tr>\n",
       "  <th>Omnibus:</th>       <td> 0.721</td> <th>  Durbin-Watson:     </th> <td>   1.618</td>\n",
       "</tr>\n",
       "<tr>\n",
       "  <th>Prob(Omnibus):</th> <td> 0.697</td> <th>  Jarque-Bera (JB):  </th> <td>   0.681</td>\n",
       "</tr>\n",
       "<tr>\n",
       "  <th>Skew:</th>          <td>-0.003</td> <th>  Prob(JB):          </th> <td>   0.711</td>\n",
       "</tr>\n",
       "<tr>\n",
       "  <th>Kurtosis:</th>      <td> 2.191</td> <th>  Cond. No.          </th> <td>1.48e+17</td>\n",
       "</tr>\n",
       "</table><br/><br/>Warnings:<br/>[1] Standard Errors assume that the covariance matrix of the errors is correctly specified.<br/>[2] The smallest eigenvalue is 1.79e-32. This might indicate that there are<br/>strong multicollinearity problems or that the design matrix is singular."
      ],
      "text/plain": [
       "<class 'statsmodels.iolib.summary.Summary'>\n",
       "\"\"\"\n",
       "                            OLS Regression Results                            \n",
       "==============================================================================\n",
       "Dep. Variable:               C1000IMP   R-squared:                       0.695\n",
       "Model:                            OLS   Adj. R-squared:                  0.651\n",
       "Method:                 Least Squares   F-statistic:                     15.91\n",
       "Date:                Sat, 20 Mar 2021   Prob (F-statistic):           1.26e-05\n",
       "Time:                        17:40:32   Log-Likelihood:                -41.314\n",
       "No. Observations:                  25   AIC:                             90.63\n",
       "Df Residuals:                      21   BIC:                             95.50\n",
       "Df Model:                           3                                         \n",
       "Covariance Type:            nonrobust                                         \n",
       "===========================================================================================\n",
       "                              coef    std err          t      P>|t|      [0.025      0.975]\n",
       "-------------------------------------------------------------------------------------------\n",
       "Intercept                   8.8325      0.810     10.900      0.000       7.147      10.518\n",
       "Amount < 10[T.True]        -2.4248      1.003     -2.419      0.025      -4.510      -0.340\n",
       "Frequency > 1[T.True]      -4.2730      1.459     -2.929      0.008      -7.307      -1.239\n",
       "Frequency < 1.5[T.True]     8.8325      0.810     10.900      0.000       7.147      10.518\n",
       "Campaign                   -0.7859      0.237     -3.316      0.003      -1.279      -0.293\n",
       "==============================================================================\n",
       "Omnibus:                        0.721   Durbin-Watson:                   1.618\n",
       "Prob(Omnibus):                  0.697   Jarque-Bera (JB):                0.681\n",
       "Skew:                          -0.003   Prob(JB):                        0.711\n",
       "Kurtosis:                       2.191   Cond. No.                     1.48e+17\n",
       "==============================================================================\n",
       "\n",
       "Warnings:\n",
       "[1] Standard Errors assume that the covariance matrix of the errors is correctly specified.\n",
       "[2] The smallest eigenvalue is 1.79e-32. This might indicate that there are\n",
       "strong multicollinearity problems or that the design matrix is singular.\n",
       "\"\"\""
      ]
     },
     "execution_count": 121,
     "metadata": {},
     "output_type": "execute_result"
    }
   ],
   "source": [
    "# The model suggests that limiting the frequency with which ads are show to under 1.5 \n",
    "# Amount spent under 10 in any day\n",
    "# Choosing the right campaigns would help in targeting stable cost per 1000 impressions. \n",
    "# I think it also speak more to the market demand for the product, i.e the product lacks scalability.\n",
    "# As more money spent in any 24 hour window might be grossly unprofitable\n",
    "\n",
    "formula = 'C1000IMP ~ Amount<10  + Campaign + Frequency>1 + Frequency<1.5' \n",
    "model = smf.ols(formula,data=df) \n",
    "results = model.fit()\n",
    "results.summary()"
   ]
  },
  {
   "cell_type": "markdown",
   "metadata": {},
   "source": [
    "# TimeSeries on Data"
   ]
  },
  {
   "cell_type": "code",
   "execution_count": 122,
   "metadata": {},
   "outputs": [],
   "source": [
    "def GroupByDay(data,func=np.mean):\n",
    "    grouped = data[['Day','C1000IMP']].groupby('Day')\n",
    "    daily = grouped.aggregate(func)\n",
    "    daily['Days'] = daily.index\n",
    "    daily.sort_values(by='Days')\n",
    "    daily['Days'] = pd.to_datetime(daily['Days'])\n",
    "    start = pd.to_datetime(daily['Days'][0])\n",
    "\n",
    "    one_month = np.timedelta64(1,'M')\n",
    "    daily['Months'] = (daily['Days'] - start)/one_month\n",
    "    return daily\n",
    "\n",
    "def GroupByCostAndDay(data):\n",
    "    groups = data.groupby('Cost')\n",
    "    dailies = {}\n",
    "\n",
    "    for day,cost in groups:\n",
    "        dailies[day] = GroupByDay(cost)\n",
    "    return dailies  "
   ]
  },
  {
   "cell_type": "code",
   "execution_count": 123,
   "metadata": {},
   "outputs": [
    {
     "name": "stderr",
     "output_type": "stream",
     "text": [
      "/Users/emilyvincett/Downloads/ThinkStats2-master/code/thinkplot.py:182: MatplotlibDeprecationWarning: Adding an axes using the same arguments as a previous axes currently reuses the earlier instance.  In a future version, a new instance will always be created and returned.  Meanwhile, this warning can be suppressed, and the future behavior ensured, by passing a unique label to each axes instance.\n",
      "  return plt.subplot(rows, cols, plot_number, **options)\n"
     ]
    },
    {
     "data": {
      "image/png": "[encoded data removed]",
      "text/plain": [
       "<Figure size 432x288 with 1 Axes>"
      ]
     },
     "metadata": {
      "needs_background": "light"
     },
     "output_type": "display_data"
    },
    {
     "data": {
      "image/png": "[encoded data removed]",
      "text/plain": [
       "<Figure size 432x288 with 1 Axes>"
      ]
     },
     "metadata": {
      "needs_background": "light"
     },
     "output_type": "display_data"
    }
   ],
   "source": [
    "day = GroupByDay(data)\n",
    "dailies = GroupByCostAndDay(data)\n",
    "\n",
    "thinkplot.PrePlot(rows=2)\n",
    "for i, (cost,info) in enumerate(dailies.items()):\n",
    "    thinkplot.SubPlot(i+1)\n",
    "    title = 'Cost Per Impression' if i==0 else' '\n",
    "    thinkplot.Config(ylim=[0,20],title=title)\n",
    "    thinkplot.Scatter(info['Days'],info['C1000IMP'],color='red',alpha=0.7,s=10,label=cost)\n",
    "    plt.xticks(rotation=30)\n",
    "    #thinkplot.Config(xticks=[])\n",
    "    plt.show()"
   ]
  },
  {
   "cell_type": "markdown",
   "metadata": {},
   "source": [
    "# Moving Averages"
   ]
  },
  {
   "cell_type": "code",
   "execution_count": 127,
   "metadata": {},
   "outputs": [
    {
     "data": {
      "image/png": "[encoded data removed]",
      "text/plain": [
       "<Figure size 1080x576 with 2 Axes>"
      ]
     },
     "metadata": {
      "needs_background": "light"
     },
     "output_type": "display_data"
    },
    {
     "name": "stdout",
     "output_type": "stream",
     "text": [
      "The Low Cost Group displays a linear relationship, as days go by the average costs increases\n",
      "The High Cost Group seems completely random\n"
     ]
    }
   ],
   "source": [
    "high = dailies['High']['C1000IMP']\n",
    "low = dailies['Low']['C1000IMP']\n",
    "\n",
    "# Calculate the moving average of the high and low cost group\n",
    "mov_avg_h = high.rolling(3).mean()\n",
    "mov_avg_l = low.rolling(3).mean()\n",
    "\n",
    "#Calculate epxonential moving averages for both \n",
    "emov_avg_h = pd.DataFrame.ewm(high,span=3).mean()\n",
    "emov_avg_l = pd.DataFrame.ewm(low,span=3).mean()\n",
    "\n",
    "plt.figure(figsize=(15,8))\n",
    "plt.subplot(1,2,1)\n",
    "plt.title('HIGH COST GROUP')\n",
    "sns.scatterplot(emov_avg_h.index[4:],emov_avg_h[4:])\n",
    "plt.xticks(rotation=90)\n",
    "plt.subplot(1,2,2)\n",
    "plt.title('LOW COST GROUP')\n",
    "sns.scatterplot(emov_avg_l.index,emov_avg_l)\n",
    "plt.xticks(rotation=90)\n",
    "plt.show()\n",
    "\n",
    "print(\"The Low Cost Group displays a linear relationship, as days go by the average costs increases\\nThe High Cost Group seems completely random\")\n",
    "# Does this mean that my impression costs will rise the longer the campaigns run for.\n",
    "# Should campaigns be run for shorterperiods of time. "
   ]
  },
  {
   "cell_type": "markdown",
   "metadata": {},
   "source": [
    "# Serial Correlation"
   ]
  },
  {
   "cell_type": "code",
   "execution_count": 128,
   "metadata": {},
   "outputs": [],
   "source": [
    "def SerialCorr(series,lag=3):\n",
    "    xs = series[lag:]\n",
    "    ys = series.shift(lag)[lag:]\n",
    "    corr = thinkstats2.Corr(xs,ys)\n",
    "    return corr"
   ]
  },
  {
   "cell_type": "code",
   "execution_count": 129,
   "metadata": {},
   "outputs": [
    {
     "name": "stdout",
     "output_type": "stream",
     "text": [
      "High Group Serial Correlation: -0.21732\n",
      "Low Group Serial Correlation: 0.32773\n",
      "Combined Correlation: 0.07302\n"
     ]
    }
   ],
   "source": [
    "corr_h = SerialCorr(high)\n",
    "corr_l = SerialCorr(low)\n",
    "corr_a = SerialCorr(day['C1000IMP'])\n",
    "print('High Group Serial Correlation: %.5f\\nLow Group Serial Correlation: %.5f\\nCombined Correlation: %.5f'%(corr_h,corr_l,corr_a))"
   ]
  },
  {
   "cell_type": "markdown",
   "metadata": {},
   "source": [
    "# AutoCorrelation"
   ]
  },
  {
   "cell_type": "code",
   "execution_count": 133,
   "metadata": {},
   "outputs": [
    {
     "data": {
      "image/png": "[encoded data removed]",
      "text/plain": [
       "<Figure size 432x288 with 1 Axes>"
      ]
     },
     "metadata": {
      "needs_background": "light"
     },
     "output_type": "display_data"
    },
    {
     "data": {
      "image/png": "[encoded data removed]",
      "text/plain": [
       "<Figure size 432x288 with 1 Axes>"
      ]
     },
     "metadata": {
      "needs_background": "light"
     },
     "output_type": "display_data"
    },
    {
     "data": {
      "image/png": "[encoded data removed]",
      "text/plain": [
       "<Figure size 432x288 with 1 Axes>"
      ]
     },
     "metadata": {
      "needs_background": "light"
     },
     "output_type": "display_data"
    }
   ],
   "source": [
    "# 0.05% i.e. 95% Confidence Intervals\n",
    "resids = [high,low,day['C1000IMP']]\n",
    "for a in enumerate(resids):\n",
    "    sm.graphics.tsa.plot_acf(a[1].values.squeeze(),lags=20,alpha=0.05,zero=False)\n",
    "    if a[0]==0:\n",
    "        plt.title('High Cost Group')\n",
    "    elif a[0]==1:\n",
    "        plt.title('Low Cost Group') \n",
    "    else:\n",
    "        plt.title('Combined Set') "
   ]
  },
  {
   "cell_type": "markdown",
   "metadata": {},
   "source": [
    "# Conclusions"
   ]
  },
  {
   "cell_type": "code",
   "execution_count": null,
   "metadata": {},
   "outputs": [],
   "source": [
    "# The autocorrelations shows serial correlation for the low cost and combined group.\n",
    "# Any correlation doesnt seem to be statistically significant after 2 lags. \n",
    "# Which would leave me to reserve much judgment as this analysis has been conducted on a very small dataset."
   ]
  }
 ],
 "metadata": {
  "kernelspec": {
   "display_name": "Python 3",
   "language": "python",
   "name": "python3"
  },
  "language_info": {
   "codemirror_mode": {
    "name": "ipython",
    "version": 3
   },
   "file_extension": ".py",
   "mimetype": "text/x-python",
   "name": "python",
   "nbconvert_exporter": "python",
   "pygments_lexer": "ipython3",
   "version": "3.8.3"
  }
 },
 "nbformat": 4,
 "nbformat_minor": 4
}
